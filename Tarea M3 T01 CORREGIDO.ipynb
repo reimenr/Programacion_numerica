{
 "cells": [
  {
   "cell_type": "code",
   "execution_count": 3,
   "id": "764a4859",
   "metadata": {},
   "outputs": [],
   "source": [
    "from sklearn import datasets\n",
    "import numpy as np\n",
    "import pandas as pd"
   ]
  },
  {
   "cell_type": "code",
   "execution_count": 4,
   "id": "3b18b768",
   "metadata": {},
   "outputs": [],
   "source": [
    "iris= datasets.load_iris()"
   ]
  },
  {
   "cell_type": "code",
   "execution_count": 5,
   "id": "dfa8f4c9",
   "metadata": {},
   "outputs": [
    {
     "data": {
      "text/plain": [
       "['DESCR',\n",
       " 'data',\n",
       " 'data_module',\n",
       " 'feature_names',\n",
       " 'filename',\n",
       " 'frame',\n",
       " 'target',\n",
       " 'target_names']"
      ]
     },
     "execution_count": 5,
     "metadata": {},
     "output_type": "execute_result"
    }
   ],
   "source": [
    "dir(iris)"
   ]
  },
  {
   "cell_type": "markdown",
   "id": "2b55a977",
   "metadata": {},
   "source": [
    "### Ejercicio 1\n",
    "Cargar \"fecha\" y \"target\" del conjunto de datos, y visualiza los 10 primeros registros de cada uno."
   ]
  },
  {
   "cell_type": "code",
   "execution_count": 6,
   "id": "0e544897",
   "metadata": {},
   "outputs": [],
   "source": [
    "d= iris.data"
   ]
  },
  {
   "cell_type": "code",
   "execution_count": 7,
   "id": "e113770a",
   "metadata": {},
   "outputs": [],
   "source": [
    "t= iris.target"
   ]
  },
  {
   "cell_type": "code",
   "execution_count": 8,
   "id": "8cbc41e5",
   "metadata": {},
   "outputs": [
    {
     "data": {
      "text/plain": [
       "(150,)"
      ]
     },
     "execution_count": 8,
     "metadata": {},
     "output_type": "execute_result"
    }
   ],
   "source": [
    "t.shape"
   ]
  },
  {
   "cell_type": "code",
   "execution_count": 10,
   "id": "a7402f1d",
   "metadata": {},
   "outputs": [
    {
     "data": {
      "text/plain": [
       "array([[5.1, 3.5, 1.4, 0.2],\n",
       "       [4.9, 3. , 1.4, 0.2],\n",
       "       [4.7, 3.2, 1.3, 0.2],\n",
       "       [4.6, 3.1, 1.5, 0.2],\n",
       "       [5. , 3.6, 1.4, 0.2],\n",
       "       [5.4, 3.9, 1.7, 0.4],\n",
       "       [4.6, 3.4, 1.4, 0.3],\n",
       "       [5. , 3.4, 1.5, 0.2],\n",
       "       [4.4, 2.9, 1.4, 0.2],\n",
       "       [4.9, 3.1, 1.5, 0.1]])"
      ]
     },
     "execution_count": 10,
     "metadata": {},
     "output_type": "execute_result"
    }
   ],
   "source": [
    "d[:10]"
   ]
  },
  {
   "cell_type": "code",
   "execution_count": 14,
   "id": "c380baf4",
   "metadata": {},
   "outputs": [
    {
     "data": {
      "text/plain": [
       "array([0, 0, 0, 0, 0, 0, 0, 0, 0, 0])"
      ]
     },
     "execution_count": 14,
     "metadata": {},
     "output_type": "execute_result"
    }
   ],
   "source": [
    "t[:10]"
   ]
  },
  {
   "cell_type": "markdown",
   "id": "fdc2819d",
   "metadata": {},
   "source": [
    "### Ejercicio 2\n",
    "Concatena \"fecha\" y \"target\" en un nuevo array. Muestra los 5 primeros registros."
   ]
  },
  {
   "cell_type": "code",
   "execution_count": 29,
   "id": "2d72fb49",
   "metadata": {},
   "outputs": [],
   "source": [
    "t.reshape (150,-1)"
   ]
  },
  {
   "cell_type": "code",
   "execution_count": 16,
   "id": "ed651f72",
   "metadata": {},
   "outputs": [],
   "source": [
    "m = np.concatenate((d,t), axis=1)"
   ]
  },
  {
   "cell_type": "code",
   "execution_count": 36,
   "id": "ef3f964f",
   "metadata": {},
   "outputs": [
    {
     "data": {
      "text/plain": [
       "array([[5.1, 3.5, 1.4, 0.2, 0. ],\n",
       "       [4.9, 3. , 1.4, 0.2, 0. ],\n",
       "       [4.7, 3.2, 1.3, 0.2, 0. ],\n",
       "       [4.6, 3.1, 1.5, 0.2, 0. ],\n",
       "       [5. , 3.6, 1.4, 0.2, 0. ]])"
      ]
     },
     "execution_count": 36,
     "metadata": {},
     "output_type": "execute_result"
    }
   ],
   "source": [
    "m[:5]"
   ]
  },
  {
   "cell_type": "markdown",
   "id": "44002cc2",
   "metadata": {},
   "source": [
    "### Ejercicio 3\n",
    "Calcula la media y desviación estándar de la longitud del sépalo (\"sepal length (cm)\") y la longitud del pétalo (\"petal length (cm)\"). Muestra los resultados con dos decimales."
   ]
  },
  {
   "cell_type": "code",
   "execution_count": 38,
   "id": "4ea80ced",
   "metadata": {},
   "outputs": [
    {
     "data": {
      "text/plain": [
       "['sepal length (cm)',\n",
       " 'sepal width (cm)',\n",
       " 'petal length (cm)',\n",
       " 'petal width (cm)']"
      ]
     },
     "execution_count": 38,
     "metadata": {},
     "output_type": "execute_result"
    }
   ],
   "source": [
    "iris.feature_names"
   ]
  },
  {
   "cell_type": "code",
   "execution_count": 42,
   "id": "d4f458ed",
   "metadata": {
    "scrolled": true
   },
   "outputs": [
    {
     "data": {
      "text/plain": [
       "array(['setosa', 'versicolor', 'virginica'], dtype='<U10')"
      ]
     },
     "execution_count": 42,
     "metadata": {},
     "output_type": "execute_result"
    }
   ],
   "source": [
    "iris.target_names"
   ]
  },
  {
   "cell_type": "code",
   "execution_count": 43,
   "id": "3bbe1a66",
   "metadata": {},
   "outputs": [
    {
     "name": "stdout",
     "output_type": "stream",
     "text": [
      "la media de la longitud del sepalo es: 5.84\n",
      "la desviacion estandar de la longitud del sepalo es: 0.83\n"
     ]
    }
   ],
   "source": [
    "media_sepal=np.mean(m[:,0])\n",
    "desv_estandar_sepal=np.std(m[:,0])\n",
    "print(f\"la media de la longitud del sepalo es: {media_sepal:.2f}\")\n",
    "print(f\"la desviacion estandar de la longitud del sepalo es: {desv_estandar_sepal:.2f}\")"
   ]
  },
  {
   "cell_type": "code",
   "execution_count": 44,
   "id": "9387400d",
   "metadata": {},
   "outputs": [
    {
     "name": "stdout",
     "output_type": "stream",
     "text": [
      "la media de la longitud del petalo es: 3.76\n",
      "la desviacion estandar de la longitud del petalo es: 1.76\n"
     ]
    }
   ],
   "source": [
    "media_petal=np.mean(m[:,2])\n",
    "dev_estandar_petal=np.std(m[:,2])\n",
    "print(f\"la media de la longitud del petalo es: {media_petal:.2f}\")\n",
    "print(f\"la desviacion estandar de la longitud del petalo es: {dev_estandar_petal:.2f}\")"
   ]
  },
  {
   "cell_type": "markdown",
   "id": "ba6fe893",
   "metadata": {},
   "source": [
    " ### Ejercicio 4\n",
    "Selecciona una muestra aleatoria de 20 registros del conjunto obtenidos en el ejercicio anterior.\n",
    "\n"
   ]
  },
  {
   "cell_type": "code",
   "execution_count": 69,
   "id": "f435deaf",
   "metadata": {},
   "outputs": [
    {
     "data": {
      "text/plain": [
       "array([[5.8, 2.8, 5.1, 2.4, 2. ],\n",
       "       [5.8, 4. , 1.2, 0.2, 0. ],\n",
       "       [5.1, 3.8, 1.9, 0.4, 0. ],\n",
       "       [7. , 3.2, 4.7, 1.4, 1. ],\n",
       "       [6. , 2.2, 5. , 1.5, 2. ],\n",
       "       [4.9, 3. , 1.4, 0.2, 0. ],\n",
       "       [5.3, 3.7, 1.5, 0.2, 0. ],\n",
       "       [5.2, 4.1, 1.5, 0.1, 0. ],\n",
       "       [6.4, 2.8, 5.6, 2.1, 2. ],\n",
       "       [5.6, 2.5, 3.9, 1.1, 1. ],\n",
       "       [6.8, 2.8, 4.8, 1.4, 1. ],\n",
       "       [4.8, 3. , 1.4, 0.1, 0. ],\n",
       "       [5.1, 3.4, 1.5, 0.2, 0. ],\n",
       "       [5.8, 2.7, 5.1, 1.9, 2. ],\n",
       "       [6.9, 3.2, 5.7, 2.3, 2. ],\n",
       "       [7.1, 3. , 5.9, 2.1, 2. ],\n",
       "       [6.9, 3.1, 4.9, 1.5, 1. ],\n",
       "       [5.8, 2.7, 4.1, 1. , 1. ],\n",
       "       [4.9, 3.1, 1.5, 0.2, 0. ],\n",
       "       [5.1, 3.8, 1.5, 0.3, 0. ]])"
      ]
     },
     "execution_count": 69,
     "metadata": {},
     "output_type": "execute_result"
    }
   ],
   "source": [
    "mr= m[np.random.choice(m.shape[0], 20, replace=False)]\n",
    "mr"
   ]
  },
  {
   "cell_type": "markdown",
   "id": "c7fb6eb8",
   "metadata": {},
   "source": [
    " ### Ejercicio 5\n",
    "Crea una matriz que muestre: \n",
    "\n",
    "• La media de cada característica por especie. \n",
    "\n",
    "• La desviación estándar de cada característica por especie."
   ]
  },
  {
   "cell_type": "code",
   "execution_count": 70,
   "id": "02ea4327",
   "metadata": {},
   "outputs": [
    {
     "name": "stdout",
     "output_type": "stream",
     "text": [
      "[5.13333333 3.54444444 1.48888889 0.21111111]\n",
      "[0.27888668 0.40582183 0.17284832 0.08748898]\n",
      "[6.42 2.86 4.48 1.28]\n",
      "[0.59464275 0.25768197 0.40199502 0.19390719]\n",
      "[6.33333333 2.78333333 5.4        2.05      ]\n",
      "[0.51532083 0.30776976 0.34641016 0.29297326]\n"
     ]
    }
   ],
   "source": [
    "mean_total=[]\n",
    "for i in range(3):\n",
    "    mean=np.mean(mr[mr[:, 4] == i,:4], axis=0)\n",
    "    mean_total.append(mean)\n",
    "    std=np.std(mr[mr[:,4] == i,:4], axis=0)\n",
    "    print(mean)\n",
    "    print(std)"
   ]
  },
  {
   "cell_type": "markdown",
   "id": "00057442",
   "metadata": {},
   "source": [
    "los anteriores datos se organizan, fila de medias y fila de desviacion estandar por cada especie, siendo las filas 0 ( media) \n",
    "y 1 desviacion estandar para la especie 0 (setona), 2 (media) y 3 (desviacion estandar) para especie 1 ( versicolor); filas 4 \n",
    "(media) y 5 (desviacion estandar) para especia 2 ( virignica)"
   ]
  },
  {
   "cell_type": "code",
   "execution_count": 73,
   "id": "07500192",
   "metadata": {},
   "outputs": [
    {
     "data": {
      "text/plain": [
       "[array([5.13333333, 3.54444444, 1.48888889, 0.21111111]),\n",
       " array([6.42, 2.86, 4.48, 1.28]),\n",
       " array([6.33333333, 2.78333333, 5.4       , 2.05      ])]"
      ]
     },
     "execution_count": 73,
     "metadata": {},
     "output_type": "execute_result"
    }
   ],
   "source": [
    "mean_total"
   ]
  },
  {
   "cell_type": "markdown",
   "id": "d90b5047",
   "metadata": {},
   "source": [
    "la matriz mean_total, unifica los valores de medias de cada especie por columnas (features_names), siendo la fila 0 \n",
    "(0 = setona ), fila 1 ( 1= versicolor), fila 2 (2=virginica)"
   ]
  },
  {
   "cell_type": "markdown",
   "id": "1bb19eec",
   "metadata": {},
   "source": [
    " ### Ejercicio 6\n",
    "  Calcula la cantidad de muestras por especie.\n",
    "\n",
    "• Encuentra la especie con el valor máximo promedio de la variable \"sepal length (cm)\""
   ]
  },
  {
   "cell_type": "code",
   "execution_count": 74,
   "id": "6cf36e71",
   "metadata": {},
   "outputs": [
    {
     "data": {
      "text/plain": [
       "'setosa'"
      ]
     },
     "execution_count": 74,
     "metadata": {},
     "output_type": "execute_result"
    }
   ],
   "source": [
    "iris.target_names[0]"
   ]
  },
  {
   "cell_type": "code",
   "execution_count": 75,
   "id": "81c8a955",
   "metadata": {},
   "outputs": [
    {
     "name": "stdout",
     "output_type": "stream",
     "text": [
      "La cantidad de muestras de setosa es : 9\n",
      "La cantidad de muestras de versicolor es : 5\n",
      "La cantidad de muestras de virginica es : 6\n"
     ]
    }
   ],
   "source": [
    "for i in range(3):\n",
    "    print(\"La cantidad de muestras de\", iris.target_names[i], \"es :\" ,len(mr[mr[:,4] == i,4]))"
   ]
  },
  {
   "cell_type": "code",
   "execution_count": 76,
   "id": "e38f0c79",
   "metadata": {
    "scrolled": true
   },
   "outputs": [
    {
     "data": {
      "text/plain": [
       "array([[5.13333333, 3.54444444, 1.48888889, 0.21111111],\n",
       "       [6.42      , 2.86      , 4.48      , 1.28      ],\n",
       "       [6.33333333, 2.78333333, 5.4       , 2.05      ]])"
      ]
     },
     "execution_count": 76,
     "metadata": {},
     "output_type": "execute_result"
    }
   ],
   "source": [
    "mean_tot_m=np.array(mean_total)\n",
    "mean_tot_m"
   ]
  },
  {
   "cell_type": "markdown",
   "id": "78732bce",
   "metadata": {},
   "source": [
    "Convierto la matriz meanto_total a matriz Numpy con dos dimenciones para poder trabajar sobre ella. igualmente cada fila 0,1,2 corresponde a la especie en su mismo orden"
   ]
  },
  {
   "cell_type": "code",
   "execution_count": 147,
   "id": "48843dad",
   "metadata": {},
   "outputs": [
    {
     "name": "stdout",
     "output_type": "stream",
     "text": [
      "La especie con el valor maximo promedio es : versicolor\n"
     ]
    }
   ],
   "source": [
    "print(\"La especie con el valor maximo promedio es :\", iris.target_names[np.argmax(mean_tot_m[:, 0])])"
   ]
  },
  {
   "cell_type": "markdown",
   "id": "f42481ce",
   "metadata": {},
   "source": [
    " ### Ejercicio 7\n",
    "• Calcula la matriz de correlación entre las variables.\n",
    "\n",
    "• Filtra los valores mayores a la media de la longitud de los pétalos y muéstralo. \n",
    "\n",
    "• Encuentra la muestra con los pétalos más grandes."
   ]
  },
  {
   "cell_type": "code",
   "execution_count": 127,
   "id": "338dc7b7",
   "metadata": {},
   "outputs": [
    {
     "data": {
      "text/plain": [
       "array([[ 1.        , -0.30760498,  0.84641487,  0.78195116,  0.70900903],\n",
       "       [-0.30760498,  1.        , -0.65418424, -0.58510055, -0.67525938],\n",
       "       [ 0.84641487, -0.65418424,  1.        ,  0.96754383,  0.95416657],\n",
       "       [ 0.78195116, -0.58510055,  0.96754383,  1.        ,  0.96748607],\n",
       "       [ 0.70900903, -0.67525938,  0.95416657,  0.96748607,  1.        ]])"
      ]
     },
     "execution_count": 127,
     "metadata": {},
     "output_type": "execute_result"
    }
   ],
   "source": [
    "np.corrcoef(mr, rowvar=False)"
   ]
  },
  {
   "cell_type": "code",
   "execution_count": 128,
   "id": "26e8fc69",
   "metadata": {},
   "outputs": [
    {
     "data": {
      "text/plain": [
       "3.7580000000000005"
      ]
     },
     "execution_count": 128,
     "metadata": {},
     "output_type": "execute_result"
    }
   ],
   "source": [
    "media_petal"
   ]
  },
  {
   "cell_type": "code",
   "execution_count": 203,
   "id": "64880e4b",
   "metadata": {},
   "outputs": [
    {
     "data": {
      "text/plain": [
       "array([[5.8, 2.8, 5.1, 2.4, 2. ],\n",
       "       [7. , 3.2, 4.7, 1.4, 1. ],\n",
       "       [6. , 2.2, 5. , 1.5, 2. ],\n",
       "       [6.4, 2.8, 5.6, 2.1, 2. ],\n",
       "       [5.6, 2.5, 3.9, 1.1, 1. ],\n",
       "       [6.8, 2.8, 4.8, 1.4, 1. ],\n",
       "       [5.8, 2.7, 5.1, 1.9, 2. ],\n",
       "       [6.9, 3.2, 5.7, 2.3, 2. ],\n",
       "       [7.1, 3. , 5.9, 2.1, 2. ],\n",
       "       [6.9, 3.1, 4.9, 1.5, 1. ],\n",
       "       [5.8, 2.7, 4.1, 1. , 1. ]])"
      ]
     },
     "execution_count": 203,
     "metadata": {},
     "output_type": "execute_result"
    }
   ],
   "source": [
    "mr[mr[:,2] > media_petal]"
   ]
  },
  {
   "cell_type": "code",
   "execution_count": null,
   "id": "3f38e00c",
   "metadata": {},
   "outputs": [],
   "source": []
  },
  {
   "cell_type": "code",
   "execution_count": 202,
   "id": "9799d594",
   "metadata": {},
   "outputs": [
    {
     "name": "stdout",
     "output_type": "stream",
     "text": [
      "La muestras con petalos mas grandes es : 5.9 de la especie virginica\n"
     ]
    }
   ],
   "source": [
    "print(\"La muestras con petalos mas grandes es :\", (max(mr[:, 2])), \"de la especie\", \n",
    "      iris.target_names[int(mr[np.argmax(mr[:, 2]),4])])"
   ]
  },
  {
   "cell_type": "markdown",
   "id": "ead08143",
   "metadata": {},
   "source": [
    " ### Ejercicio 8\n",
    " Halla la especie con la mayor diferencia entre la longitud media de sépalos y pétalos."
   ]
  },
  {
   "cell_type": "code",
   "execution_count": 132,
   "id": "cf9edd8f",
   "metadata": {},
   "outputs": [
    {
     "data": {
      "text/plain": [
       "array([[5.13333333, 3.54444444, 1.48888889, 0.21111111],\n",
       "       [6.42      , 2.86      , 4.48      , 1.28      ],\n",
       "       [6.33333333, 2.78333333, 5.4       , 2.05      ]])"
      ]
     },
     "execution_count": 132,
     "metadata": {},
     "output_type": "execute_result"
    }
   ],
   "source": [
    "mean_tot_m"
   ]
  },
  {
   "cell_type": "code",
   "execution_count": 188,
   "id": "c96f0549",
   "metadata": {},
   "outputs": [
    {
     "data": {
      "text/plain": [
       "array([[3.64444444],\n",
       "       [1.94      ],\n",
       "       [0.93333333]])"
      ]
     },
     "execution_count": 188,
     "metadata": {},
     "output_type": "execute_result"
    }
   ],
   "source": [
    "dif=np.abs(np.diff(mean_tot_m[:, [0,2]], axis=1))\n",
    "dif"
   ]
  },
  {
   "cell_type": "markdown",
   "id": "6fab996d",
   "metadata": {},
   "source": [
    "Para hallar la mayor diferencia, se necesito convertiro la matriz en en valorex absolutos. es importante guardar los valores en una variable para que puedan ser luego interpretados por python."
   ]
  },
  {
   "cell_type": "code",
   "execution_count": 189,
   "id": "838054ec",
   "metadata": {},
   "outputs": [
    {
     "name": "stdout",
     "output_type": "stream",
     "text": [
      "La especie con mayor diferencia entre,longitud media de sépalos y pétalos es : setosa\n"
     ]
    }
   ],
   "source": [
    "print(\"La especie con mayor diferencia entre,longitud media de sépalos y pétalos es :\", iris.target_names[np.argmax(dif)])"
   ]
  }
 ],
 "metadata": {
  "kernelspec": {
   "display_name": "Python 3 (ipykernel)",
   "language": "python",
   "name": "python3"
  },
  "language_info": {
   "codemirror_mode": {
    "name": "ipython",
    "version": 3
   },
   "file_extension": ".py",
   "mimetype": "text/x-python",
   "name": "python",
   "nbconvert_exporter": "python",
   "pygments_lexer": "ipython3",
   "version": "3.10.9"
  }
 },
 "nbformat": 4,
 "nbformat_minor": 5
}
